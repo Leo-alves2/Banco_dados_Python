{
 "cells": [
  {
   "cell_type": "code",
   "execution_count": 1,
   "metadata": {},
   "outputs": [],
   "source": [
    "# Importando SQL Lite\n",
    "\n",
    "import sqlite3 as lite"
   ]
  },
  {
   "cell_type": "code",
   "execution_count": 2,
   "metadata": {},
   "outputs": [],
   "source": [
    "# Criando conexão / caso não existir será criando novo banco de dados\n",
    "\n",
    "con = lite.connect('livraria.db')"
   ]
  },
  {
   "cell_type": "code",
   "execution_count": 3,
   "metadata": {},
   "outputs": [
    {
     "name": "stdout",
     "output_type": "stream",
     "text": [
      "[]\n"
     ]
    }
   ],
   "source": [
    "# Verificando o que tem dentro da tabela o resultado é uma lista vazia\n",
    "\n",
    "cur = con.cursor()\n",
    "cur.execute(\"SELECT * FROM Categoria\")\n",
    "\n",
    "print(cur.fetchall())"
   ]
  },
  {
   "cell_type": "code",
   "execution_count": 4,
   "metadata": {},
   "outputs": [],
   "source": [
    "# Inserindo dados na tabela Categoria\n",
    "\n",
    "with con:\n",
    "    cur = con.cursor()\n",
    "    cur.execute(\"INSERT INTO Categoria (nome) VALUES('Romance')\")\n",
    "    cur.execute(\"INSERT INTO Categoria (nome) VALUES('Terror')\")\n",
    "    cur.execute(\"INSERT INTO Categoria (nome) VALUES('Aventura')\")\n",
    "    cur.execute(\"INSERT INTO Categoria (nome) VALUES('Comedia')\")\n",
    "\n",
    "# Obs. com o with não precisa fechar o banco de dados Ex. con.close()"
   ]
  },
  {
   "cell_type": "code",
   "execution_count": 5,
   "metadata": {},
   "outputs": [
    {
     "name": "stdout",
     "output_type": "stream",
     "text": [
      "[(1, 'Romance'), (2, 'Terror'), (3, 'Aventura'), (4, 'Comedia')]\n"
     ]
    }
   ],
   "source": [
    "# Verificando os dados inseridos\n",
    "\n",
    "cur = con.cursor()\n",
    "cur.execute(\"SELECT * FROM Categoria\")\n",
    "\n",
    "print(cur.fetchall())"
   ]
  },
  {
   "cell_type": "code",
   "execution_count": 8,
   "metadata": {},
   "outputs": [],
   "source": [
    "# Inserindo dados na tabela Menbro\n",
    "\n",
    "# Observe que de um novo jeito aconselhável para programar\n",
    "\n",
    "# Mais fácil para usar com vários dados usando FOR\n",
    " \n",
    "valores = ['Pri', 'F', '13545866', 'Sao Paulo-SP']\n",
    "\n",
    "with con:\n",
    "    cur = con.cursor()\n",
    "    query = (\"INSERT INTO Membro (nome, genero, tel, endereco) VALUES(?,?,?,?)\")\n",
    "    cur.execute(query, valores)\n",
    "    \n",
    "\n",
    "# Obs. com o with não precisa fechar o banco de dados Ex. con.close()"
   ]
  },
  {
   "cell_type": "code",
   "execution_count": 9,
   "metadata": {},
   "outputs": [
    {
     "name": "stdout",
     "output_type": "stream",
     "text": [
      "[(1, 'Leo', 'M', '123456789', 'Salvador-Ba'), (2, 'Pri', 'F', '13545866', 'Sao Paulo-SP')]\n"
     ]
    }
   ],
   "source": [
    "# Verificando os dados inseridos\n",
    "\n",
    "cur = con.cursor()\n",
    "cur.execute(\"SELECT * FROM Membro\")\n",
    "\n",
    "print(cur.fetchall())"
   ]
  },
  {
   "cell_type": "code",
   "execution_count": 12,
   "metadata": {},
   "outputs": [],
   "source": [
    "# Inserindo dados na tabela Livro\n",
    "\n",
    "valores = ['Racismo Estrutural', 'Silvo Almeida', 'Pretos', 2, 10, '20/01/2023']\n",
    "\n",
    "with con:\n",
    "    cur = con.cursor()\n",
    "    query = (\"INSERT INTO Livro ('titulo', 'autor', 'editora', 'categoria', 'copias', 'adicionado_em') VALUES(?, ?, ?, ?, ?, ?)\")\n",
    "    cur.execute(query, valores)\n",
    "    \n",
    "\n",
    "# Obs. com o with não precisa fechar o banco de dados Ex. con.close()"
   ]
  },
  {
   "cell_type": "code",
   "execution_count": 13,
   "metadata": {},
   "outputs": [
    {
     "name": "stdout",
     "output_type": "stream",
     "text": [
      "[(1, 'O Rei das Fraudes', 'John Grisham', 'Primor', 3, 15, '25/01/2023'), (2, 'Racismo Estrutural', 'Silvo Almeida', 'Pretos', 2, 10, '20/01/2023')]\n"
     ]
    }
   ],
   "source": [
    "# Verificando os dados inseridos\n",
    "\n",
    "cur = con.cursor()\n",
    "cur.execute(\"SELECT * FROM Livro\")\n",
    "\n",
    "print(cur.fetchall())"
   ]
  },
  {
   "cell_type": "code",
   "execution_count": 24,
   "metadata": {},
   "outputs": [],
   "source": [
    "# Inserindo dados na tabela Livros Alugados\n",
    "\n",
    "valores = [2, 2, '21.01.2023', '0']\n",
    "\n",
    "with con:\n",
    "    cur = con.cursor()\n",
    "    query = (\"INSERT INTO Livros_Alugados ( 'id_livro', 'id_membro', 'alugado_em', 'data_de_retorno' ) VALUES(?, ?, ?, ?)\")\n",
    "    cur.execute(query, valores)\n",
    "    \n",
    "\n",
    "# Obs. com o with não precisa fechar o banco de dados Ex. con.close()"
   ]
  },
  {
   "cell_type": "code",
   "execution_count": 25,
   "metadata": {},
   "outputs": [
    {
     "name": "stdout",
     "output_type": "stream",
     "text": [
      "[(1, 1, 1, '25.01.2023', '01.01.2000'), (2, 2, 2, '21.01.2023', 0)]\n"
     ]
    }
   ],
   "source": [
    "# Verificando os dados inseridos\n",
    "\n",
    "cur = con.cursor()\n",
    "cur.execute(\"SELECT * FROM Livros_Alugados\")\n",
    "\n",
    "print(cur.fetchall())"
   ]
  },
  {
   "cell_type": "code",
   "execution_count": 29,
   "metadata": {},
   "outputs": [],
   "source": [
    "# Atualizando os dados na tabela Livro\n",
    "\n",
    "valores = ['20/01/2020', 2]\n",
    "\n",
    "with con:\n",
    "    cur = con.cursor()\n",
    "    query = (\"UPDATE Livro SET adicionado_em = ? WHERE id = ?\")\n",
    "    cur.execute(query, valores)\n",
    "    \n",
    "\n",
    "# Obs. com o with não precisa fechar o banco de dados Ex. con.close()"
   ]
  },
  {
   "cell_type": "code",
   "execution_count": 30,
   "metadata": {},
   "outputs": [
    {
     "name": "stdout",
     "output_type": "stream",
     "text": [
      "[(1, 'O Rei das Fraudes', 'John Grisham', 'Primor', 3, 15, '25/01/2023'), (2, 'Racismo Estrutural', 'Silvo Almeida', 'Pretos', 2, 10, '20/01/2020')]\n"
     ]
    }
   ],
   "source": [
    "# Verificando os dados alterado\n",
    "\n",
    "cur = con.cursor()\n",
    "cur.execute(\"SELECT * FROM Livro\")\n",
    "\n",
    "print(cur.fetchall())"
   ]
  },
  {
   "cell_type": "code",
   "execution_count": 31,
   "metadata": {},
   "outputs": [],
   "source": [
    "# Apagar dados na tabela Categoria\n",
    "\n",
    "valores = [4]\n",
    "\n",
    "with con:\n",
    "    cur = con.cursor()\n",
    "    query = (\"DELETE FROM Categoria WHERE id = ?\")\n",
    "    cur.execute(query, valores)\n",
    "    \n",
    "\n",
    "# Obs. com o with não precisa fechar o banco de dados Ex. con.close()"
   ]
  },
  {
   "cell_type": "code",
   "execution_count": 32,
   "metadata": {},
   "outputs": [
    {
     "name": "stdout",
     "output_type": "stream",
     "text": [
      "[(1, 'Romance'), (2, 'Terror'), (3, 'Aventura')]\n"
     ]
    }
   ],
   "source": [
    "# Verificando os dados alterado\n",
    "\n",
    "cur = con.cursor()\n",
    "cur.execute(\"SELECT * FROM Categoria\")\n",
    "\n",
    "print(cur.fetchall())"
   ]
  }
 ],
 "metadata": {
  "kernelspec": {
   "display_name": "Python 3.10.6 ('BD_1': venv)",
   "language": "python",
   "name": "python3"
  },
  "language_info": {
   "codemirror_mode": {
    "name": "ipython",
    "version": 3
   },
   "file_extension": ".py",
   "mimetype": "text/x-python",
   "name": "python",
   "nbconvert_exporter": "python",
   "pygments_lexer": "ipython3",
   "version": "3.10.6"
  },
  "orig_nbformat": 4,
  "vscode": {
   "interpreter": {
    "hash": "22787ccb4f475dff03ffc8dfb656935913db91696fe6b09d5795bc77404814e2"
   }
  }
 },
 "nbformat": 4,
 "nbformat_minor": 2
}
