{
 "cells": [
  {
   "cell_type": "code",
   "execution_count": 1,
   "metadata": {},
   "outputs": [],
   "source": [
    "# Importando SQL Lite\n",
    "\n",
    "import sqlite3 as lite"
   ]
  },
  {
   "cell_type": "code",
   "execution_count": 2,
   "metadata": {},
   "outputs": [],
   "source": [
    "# Criando conexão / caso não existir será criando novo banco de dados\n",
    "\n",
    "con = lite.connect('livraria.db')"
   ]
  },
  {
   "cell_type": "code",
   "execution_count": null,
   "metadata": {},
   "outputs": [],
   "source": [
    "# Criando tabelas\n",
    "\n",
    "# Tabela Categoria\n",
    "\n",
    "with con:\n",
    "    cur = con.cursor()\n",
    "    cur.execute(\"CREATE TABLE Categoria( id INTEGER, nome TEXT, PRIMARY KEY('id' AUTOINCREMENT) )\")"
   ]
  },
  {
   "cell_type": "code",
   "execution_count": 6,
   "metadata": {},
   "outputs": [],
   "source": [
    "# Tabela Membro\n",
    "\n",
    "with con:\n",
    "    cur = con.cursor()\n",
    "    cur.execute(\"CREATE TABLE Membro( id INTEGER, nome TEXT, genero TEXT, tel TEXT, endereco TEXT, PRIMARY KEY('id' AUTOINCREMENT) )\")"
   ]
  },
  {
   "cell_type": "code",
   "execution_count": null,
   "metadata": {},
   "outputs": [],
   "source": [
    "# Tabela Livro\n",
    "\n",
    "with con:\n",
    "    cur = con.cursor()\n",
    "    cur.execute(\"CREATE TABLE Livro( id INTEGER, titulo TEXT, autor TEXT, editora TEXT, categoria INTEGER, copias INT, adicionado_em DATE, \\\n",
    "            PRIMARY KEY('id' AUTOINCREMENT), FOREIGN KEY('categoria') REFERENCES 'Categoria' ('id') ON DELETE CASCADE )\")"
   ]
  },
  {
   "cell_type": "code",
   "execution_count": 9,
   "metadata": {},
   "outputs": [],
   "source": [
    "# Tabela Livros_Alugados\n",
    "\n",
    "with con:\n",
    "    cur = con.cursor()\n",
    "    cur.execute(\"CREATE TABLE Livros_Alugados( id INTEGER, id_livro INT, id_membro INT, alugado_em DATE, data_de_retorno DATE, \\\n",
    "            PRIMARY KEY('id' AUTOINCREMENT), FOREIGN KEY('id_livro') REFERENCES 'Livro' ('id') ON DELETE CASCADE, \\\n",
    "                    FOREIGN KEY('id_membro') REFERENCES 'Membro' ('id') ON DELETE CASCADE )\")"
   ]
  }
 ],
 "metadata": {
  "kernelspec": {
   "display_name": "Python 3.10.6 ('BD_1': venv)",
   "language": "python",
   "name": "python3"
  },
  "language_info": {
   "codemirror_mode": {
    "name": "ipython",
    "version": 3
   },
   "file_extension": ".py",
   "mimetype": "text/x-python",
   "name": "python",
   "nbconvert_exporter": "python",
   "pygments_lexer": "ipython3",
   "version": "3.10.6"
  },
  "orig_nbformat": 4,
  "vscode": {
   "interpreter": {
    "hash": "22787ccb4f475dff03ffc8dfb656935913db91696fe6b09d5795bc77404814e2"
   }
  }
 },
 "nbformat": 4,
 "nbformat_minor": 2
}
